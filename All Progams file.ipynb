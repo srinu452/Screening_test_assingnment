{
 "cells": [
  {
   "cell_type": "code",
   "execution_count": null,
   "id": "a6779cc6-83ec-44db-82c0-4d8164c14cb7",
   "metadata": {},
   "outputs": [],
   "source": [
    "Problem-1: Create a small calculator which performs operations such as Addition, Subtraction, Multiplication and Division using class.\n",
    "  Calculator inputs :> ‘a’, ‘b’ and ‘type of operation’\n",
    "  Datatype :> ‘a’ = double, ‘b’ = double, ‘type of operation’ = string\n",
    " "
   ]
  },
  {
   "cell_type": "code",
   "execution_count": 1,
   "id": "bf0f1578-0a18-4c5e-aca1-0533216acdd7",
   "metadata": {},
   "outputs": [
    {
     "name": "stdin",
     "output_type": "stream",
     "text": [
      "Enter first number (a):  3\n",
      "Enter second number (b):  2\n",
      "Enter operation (add, subtract, multiply, divide):  add\n"
     ]
    },
    {
     "name": "stdout",
     "output_type": "stream",
     "text": [
      "Result: 5.0\n"
     ]
    }
   ],
   "source": [
    "class Calculator:\n",
    "    def __init__(self, a: float, b: float, operation: str):\n",
    "        self.a = a\n",
    "        self.b = b\n",
    "        self.operation = operation.lower()\n",
    "\n",
    "    def calculate(self):\n",
    "        if self.operation == \"add\" or self.operation == \"+\":\n",
    "            return self.a + self.b\n",
    "        elif self.operation == \"subtract\" or self.operation == \"-\":\n",
    "            return self.a - self.b\n",
    "        elif self.operation == \"multiply\" or self.operation == \"*\":\n",
    "            return self.a * self.b\n",
    "        elif self.operation == \"divide\" or self.operation == \"/\":\n",
    "            if self.b != 0:\n",
    "                return self.a / self.b\n",
    "            else:\n",
    "                return \"Error: Division by zero\"\n",
    "        else:\n",
    "            return \"Invalid operation\"\n",
    "\n",
    "\n",
    "a = float(input(\"Enter first number (a): \"))\n",
    "b = float(input(\"Enter second number (b): \"))\n",
    "operation = input(\"Enter operation (add, subtract, multiply, divide): \")\n",
    "\n",
    "calc = Calculator(a, b, operation)\n",
    "result = calc.calculate()\n",
    "\n",
    "print(f\"Result: {result}\")\n"
   ]
  },
  {
   "cell_type": "code",
   "execution_count": null,
   "id": "617b356b-289f-4c69-80f3-c1c9c2b31928",
   "metadata": {},
   "outputs": [],
   "source": [
    "Problem-2: With a single integer as the input, generate the following until a = x [series of numbers as shown in below examples]\n",
    " \n",
    "  Output: (examples)\n",
    "    1) input a = 1, then output : 1\n",
    "    2) input a = 2, then output : 1, 3\n",
    "    3) input a = 3, then output : 1, 3, 5\n",
    "    4) input a = 4, then output : 1, 3, 5, 7\n",
    "    .\n",
    "    .\n",
    "    5) input a = x, then output : 1, 3, 5, 7, ......."
   ]
  },
  {
   "cell_type": "code",
   "execution_count": 3,
   "id": "99b10562-226b-4da9-ab52-c587e92f113f",
   "metadata": {},
   "outputs": [
    {
     "name": "stdin",
     "output_type": "stream",
     "text": [
      "Enter a number :  4\n"
     ]
    },
    {
     "name": "stdout",
     "output_type": "stream",
     "text": [
      "[1, 3, 5, 7]\n"
     ]
    }
   ],
   "source": [
    "def problem2(a: int):\n",
    "    result = [2 * i - 1 for i in range(1, a + 1)]\n",
    "    return result\n",
    "\n",
    "# Example usage\n",
    "a = int(input(\"Enter a number : \"))\n",
    "print(problem2(a))"
   ]
  },
  {
   "cell_type": "code",
   "execution_count": null,
   "id": "87a52e36-23a8-4f29-b691-d317fe3386ea",
   "metadata": {},
   "outputs": [],
   "source": []
  },
  {
   "cell_type": "code",
   "execution_count": null,
   "id": "cf698938-001e-4cc4-8fd8-2d0d575d8482",
   "metadata": {},
   "outputs": [],
   "source": [
    "Problem-3: With a single integer as the input, generate the following until a = x [series of numbers as shown in below examples]\n",
    " \n",
    "  Output: (examples)\n",
    "    1) input a = 1, then output : 1\n",
    "    2) input a = 2, then output : 1\n",
    "    3) input a = 3, then output : 1, 3, 5\n",
    "    4) input a = 4, then output : 1, 3, 5\n",
    "    5) input a = 5, then output : 1, 3, 5, 7, 9\n",
    "    6) input a = 6, then output : 1, 3, 5, 7, 9\n",
    "    .\n",
    "    .\n",
    "    7) input a = x, then output : 1, 3, 5, 7, ......."
   ]
  },
  {
   "cell_type": "code",
   "execution_count": 4,
   "id": "c1352640-79db-4992-844d-17db2304b96a",
   "metadata": {},
   "outputs": [
    {
     "name": "stdin",
     "output_type": "stream",
     "text": [
      "Enter a number :  33\n"
     ]
    },
    {
     "name": "stdout",
     "output_type": "stream",
     "text": [
      "[1, 3, 5, 7, 9, 11, 13, 15, 17, 19, 21, 23, 25, 27, 29, 31, 33, 35, 37, 39, 41, 43, 45, 47, 49, 51, 53, 55, 57, 59, 61, 63, 65]\n"
     ]
    }
   ],
   "source": [
    "def problem3(a: int):\n",
    "    if a % 2 == 0:\n",
    "        count = a - 1\n",
    "    else:\n",
    "        count = a\n",
    "    result = [2 * i - 1 for i in range(1, count + 1)]\n",
    "    return result\n",
    "\n",
    "# Example usage\n",
    "a = int(input(\"Enter a number : \"))\n",
    "print(problem3(a))\n"
   ]
  },
  {
   "cell_type": "code",
   "execution_count": null,
   "id": "8170d15c-53d5-4bdf-9c60-81aa20580101",
   "metadata": {},
   "outputs": [],
   "source": []
  },
  {
   "cell_type": "code",
   "execution_count": null,
   "id": "da25238d-29ee-4816-a790-005b86f3ad65",
   "metadata": {},
   "outputs": [],
   "source": [
    "Problem-4: Get the total count of number listed in the dictionary which is multiple of [1,2,3,4,5,6,7,8,9]\n",
    "  (examples)\n",
    "  input: [1,2,8,9,12,46,76,82,15,20,30]\n",
    "  Output: \n",
    "    {1: 11, 2: 8, 3: 4, 4: 4, 5: 3, 6: 2, 7: 0, 8: 1, 9: 1}"
   ]
  },
  {
   "cell_type": "code",
   "execution_count": 5,
   "id": "56807718-0520-4163-9316-7859e6ab6af3",
   "metadata": {},
   "outputs": [
    {
     "name": "stdout",
     "output_type": "stream",
     "text": [
      "{1: 11, 2: 8, 3: 4, 4: 4, 5: 3, 6: 2, 7: 0, 8: 1, 9: 1}\n"
     ]
    }
   ],
   "source": [
    "def problem4(numbers):\n",
    "    result = {i: 0 for i in range(1, 10)}  # dictionary for 1..9\n",
    "\n",
    "    for num in numbers:\n",
    "        for i in range(1, 10):\n",
    "            if num % i == 0:\n",
    "                result[i] += 1\n",
    "    return result\n",
    "\n",
    "# Example usage\n",
    "numbers = [1, 2, 8, 9, 12, 46, 76, 82, 15, 20, 30]\n",
    "print(problem4(numbers))\n"
   ]
  },
  {
   "cell_type": "code",
   "execution_count": null,
   "id": "7b73ee55-7e65-45ed-8176-a4419f5fd57c",
   "metadata": {},
   "outputs": [],
   "source": []
  },
  {
   "cell_type": "code",
   "execution_count": null,
   "id": "f3fb539d-37ba-462f-8c96-0342677e1e5a",
   "metadata": {},
   "outputs": [],
   "source": []
  },
  {
   "cell_type": "code",
   "execution_count": null,
   "id": "a75bb52b-dec5-4e5d-a577-f3250ab672ef",
   "metadata": {},
   "outputs": [],
   "source": []
  },
  {
   "cell_type": "code",
   "execution_count": null,
   "id": "92a3d850-6753-4cd7-b5c0-7f7feb9a8813",
   "metadata": {},
   "outputs": [],
   "source": []
  },
  {
   "cell_type": "code",
   "execution_count": null,
   "id": "21e9182b-bc23-47f2-8a11-9b58ce11147f",
   "metadata": {},
   "outputs": [],
   "source": []
  },
  {
   "cell_type": "code",
   "execution_count": null,
   "id": "c4f6b06a-56a1-4e00-9127-3221ffe5e480",
   "metadata": {},
   "outputs": [],
   "source": []
  },
  {
   "cell_type": "code",
   "execution_count": null,
   "id": "9b992aac-d745-4754-a726-4101b64a64b1",
   "metadata": {},
   "outputs": [],
   "source": []
  },
  {
   "cell_type": "code",
   "execution_count": null,
   "id": "b2c7ef16-f360-4df5-8562-866bdd611950",
   "metadata": {},
   "outputs": [],
   "source": []
  },
  {
   "cell_type": "code",
   "execution_count": null,
   "id": "23f4d0b4-4567-4415-9ba5-3b00ded3196c",
   "metadata": {},
   "outputs": [],
   "source": []
  },
  {
   "cell_type": "code",
   "execution_count": null,
   "id": "e155cc4a-29c2-4013-8392-473a2d3d59dd",
   "metadata": {},
   "outputs": [],
   "source": []
  },
  {
   "cell_type": "code",
   "execution_count": null,
   "id": "5bfd183c-7aab-44d8-b047-2b1e93718840",
   "metadata": {},
   "outputs": [],
   "source": []
  },
  {
   "cell_type": "code",
   "execution_count": null,
   "id": "f7fbccc7-6191-4d48-9989-8a2a99199893",
   "metadata": {},
   "outputs": [],
   "source": []
  },
  {
   "cell_type": "code",
   "execution_count": null,
   "id": "c4150f05-191b-4a2b-ac81-80290d16b92b",
   "metadata": {},
   "outputs": [],
   "source": []
  },
  {
   "cell_type": "code",
   "execution_count": null,
   "id": "0295dd8f-695d-41ea-a612-83e08b602c53",
   "metadata": {},
   "outputs": [],
   "source": []
  },
  {
   "cell_type": "code",
   "execution_count": null,
   "id": "420890a4-a09e-4f0c-97cc-163cd2bbf781",
   "metadata": {},
   "outputs": [],
   "source": []
  },
  {
   "cell_type": "code",
   "execution_count": null,
   "id": "30b76435-6f43-4735-b5bd-e66aa7384d46",
   "metadata": {},
   "outputs": [],
   "source": []
  },
  {
   "cell_type": "code",
   "execution_count": null,
   "id": "b692650d-99ec-4418-86f7-5d0bf9f45ec2",
   "metadata": {},
   "outputs": [],
   "source": []
  }
 ],
 "metadata": {
  "kernelspec": {
   "display_name": "Python 3 (ipykernel)",
   "language": "python",
   "name": "python3"
  },
  "language_info": {
   "codemirror_mode": {
    "name": "ipython",
    "version": 3
   },
   "file_extension": ".py",
   "mimetype": "text/x-python",
   "name": "python",
   "nbconvert_exporter": "python",
   "pygments_lexer": "ipython3",
   "version": "3.13.5"
  }
 },
 "nbformat": 4,
 "nbformat_minor": 5
}
